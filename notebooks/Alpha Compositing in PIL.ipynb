{
 "cells": [
  {
   "cell_type": "code",
   "execution_count": 1,
   "metadata": {
    "collapsed": true
   },
   "outputs": [],
   "source": [
    "%matplotlib inline"
   ]
  },
  {
   "cell_type": "code",
   "execution_count": 2,
   "metadata": {
    "collapsed": true
   },
   "outputs": [],
   "source": [
    "import matplotlib.pyplot as plt\n",
    "import numpy as np\n",
    "import warnings"
   ]
  },
  {
   "cell_type": "code",
   "execution_count": 3,
   "metadata": {
    "collapsed": true
   },
   "outputs": [],
   "source": [
    "from skimage import img_as_float, img_as_ubyte\n",
    "from PIL import Image, ImageDraw"
   ]
  },
  {
   "cell_type": "code",
   "execution_count": 4,
   "metadata": {
    "collapsed": false
   },
   "outputs": [
    {
     "data": {
      "image/png": "[encoded data removed]",
      "text/plain": [
       "<PIL.Image.Image image mode=RGBA size=100x100 at 0x109A7F320>"
      ]
     },
     "execution_count": 4,
     "metadata": {},
     "output_type": "execute_result"
    }
   ],
   "source": [
    "img1 = Image.new('RGBA', size=(100, 100), color=(255, 0, 0, 255))\n",
    "draw = ImageDraw.Draw(img1)\n",
    "draw.rectangle((33, 0, 66, 100), fill=(255, 0, 0, 128))\n",
    "draw.rectangle((67, 0, 100, 100), fill=(255, 0, 0, 1))\n",
    "img1"
   ]
  },
  {
   "cell_type": "code",
   "execution_count": 5,
   "metadata": {
    "collapsed": false
   },
   "outputs": [
    {
     "data": {
      "image/png": "[encoded data removed]",
      "text/plain": [
       "<PIL.Image.Image image mode=RGBA size=100x100 at 0x10963FEF0>"
      ]
     },
     "execution_count": 5,
     "metadata": {},
     "output_type": "execute_result"
    }
   ],
   "source": [
    "img2 = Image.new('RGBA', size=(100, 100), color=(0, 255, 0, 255))\n",
    "draw = ImageDraw.Draw(img2)\n",
    "draw.rectangle((0, 33, 100, 66), fill=(0, 255, 0, 128))\n",
    "draw.rectangle((0, 67, 100, 100), fill=(0, 255, 0, 1))\n",
    "img2"
   ]
  },
  {
   "cell_type": "code",
   "execution_count": 6,
   "metadata": {
    "collapsed": false
   },
   "outputs": [
    {
     "data": {
      "image/png": "[encoded data removed]",
      "text/plain": [
       "<PIL.Image.Image image mode=RGBA size=100x100 at 0x109A7DA90>"
      ]
     },
     "execution_count": 6,
     "metadata": {},
     "output_type": "execute_result"
    }
   ],
   "source": [
    "a = Image.alpha_composite(img2, img1)\n",
    "a"
   ]
  },
  {
   "cell_type": "code",
   "execution_count": 7,
   "metadata": {
    "collapsed": true
   },
   "outputs": [],
   "source": [
    "def alpha_composite(img1, img2):\n",
    "    assert img1.shape[-1] == img2.shape[-1] == 4\n",
    "    rgb1, alpha1 = np.dsplit(img1, (3,))\n",
    "    rgb2, alpha2 = np.dsplit(img2, (3,))\n",
    "    alpha_out = alpha1 + (1. - alpha1) * alpha2\n",
    "    rgb_out = (alpha1 * rgb1 + (1. - alpha1) * alpha2 * rgb2) / alpha_out\n",
    "    return np.dstack((rgb_out, alpha_out))"
   ]
  },
  {
   "cell_type": "code",
   "execution_count": 8,
   "metadata": {
    "collapsed": false
   },
   "outputs": [
    {
     "data": {
      "image/png": "[encoded data removed]",
      "text/plain": [
       "<PIL.Image.Image image mode=RGBA size=100x100 at 0x109B0A2E8>"
      ]
     },
     "execution_count": 8,
     "metadata": {},
     "output_type": "execute_result"
    }
   ],
   "source": [
    "b = Image.fromarray(np.round(255*alpha_composite(np.asarray(img1)/255., \n",
    "                                                 np.asarray(img2)/255.)).astype('uint8'))\n",
    "b"
   ]
  },
  {
   "cell_type": "code",
   "execution_count": 9,
   "metadata": {
    "collapsed": false
   },
   "outputs": [
    {
     "data": {
      "text/plain": [
       "True"
      ]
     },
     "execution_count": 9,
     "metadata": {},
     "output_type": "execute_result"
    }
   ],
   "source": [
    "np.all(np.asarray(a)==np.asarray(b))"
   ]
  },
  {
   "cell_type": "code",
   "execution_count": 10,
   "metadata": {
    "collapsed": false
   },
   "outputs": [
    {
     "name": "stderr",
     "output_type": "stream",
     "text": [
      "/Users/tiao/.virtualenvs/recomposed/lib/python3.5/site-packages/skimage/util/dtype.py:110: UserWarning: Possible precision loss when converting from float64 to uint8\n",
      "  \"%s to %s\" % (dtypeobj_in, dtypeobj))\n"
     ]
    },
    {
     "data": {
      "image/png": "[encoded data removed]",
      "text/plain": [
       "<PIL.Image.Image image mode=RGBA size=100x100 at 0x109AFCEF0>"
      ]
     },
     "execution_count": 10,
     "metadata": {},
     "output_type": "execute_result"
    }
   ],
   "source": [
    "b = Image.fromarray(img_as_ubyte(\n",
    "        alpha_composite(img_as_float(img1), img_as_float(img2))))\n",
    "b"
   ]
  },
  {
   "cell_type": "code",
   "execution_count": 11,
   "metadata": {
    "collapsed": false
   },
   "outputs": [
    {
     "data": {
      "image/png": "[encoded data removed]",
      "text/plain": [
       "<PIL.Image.Image image mode=RGBA size=100x100 at 0x109AFC5C0>"
      ]
     },
     "execution_count": 11,
     "metadata": {},
     "output_type": "execute_result"
    }
   ],
   "source": [
    "with warnings.catch_warnings():\n",
    "    warnings.simplefilter(\"ignore\")\n",
    "    b = Image.fromarray(img_as_ubyte(\n",
    "            alpha_composite(img_as_float(img1), img_as_float(img2))))\n",
    "b"
   ]
  },
  {
   "cell_type": "code",
   "execution_count": 12,
   "metadata": {
    "collapsed": false
   },
   "outputs": [
    {
     "data": {
      "text/plain": [
       "True"
      ]
     },
     "execution_count": 12,
     "metadata": {},
     "output_type": "execute_result"
    }
   ],
   "source": [
    "np.all(np.asarray(a)==np.asarray(b))"
   ]
  },
  {
   "cell_type": "code",
   "execution_count": 13,
   "metadata": {
    "collapsed": true
   },
   "outputs": [],
   "source": [
    "def func_as_ubyte(func):\n",
    "\n",
    "    def new_func(*args): \n",
    "\n",
    "        new_args = map(img_as_float, args)\n",
    "        ret = func(*new_args)\n",
    "        \n",
    "        with warnings.catch_warnings():\n",
    "            warnings.simplefilter(\"ignore\")\n",
    "            return img_as_ubyte(ret)\n",
    "\n",
    "    return new_func"
   ]
  },
  {
   "cell_type": "code",
   "execution_count": 14,
   "metadata": {
    "collapsed": true
   },
   "outputs": [],
   "source": [
    "def return_image_from_array(func):\n",
    "    \n",
    "    def new_func(*args, **kwargs):\n",
    "        return Image.fromarray(func(*args, **kwargs))\n",
    "\n",
    "    return new_func"
   ]
  },
  {
   "cell_type": "code",
   "execution_count": 15,
   "metadata": {
    "collapsed": false
   },
   "outputs": [],
   "source": [
    "@return_image_from_array\n",
    "@func_as_ubyte\n",
    "def alpha_composite(img1, img2):\n",
    "    assert img1.shape[-1] == img2.shape[-1] == 4\n",
    "    rgb1, alpha1 = np.dsplit(img1, (3,))\n",
    "    rgb2, alpha2 = np.dsplit(img2, (3,))\n",
    "    alpha_out = alpha1 + (1. - alpha1) * alpha2\n",
    "    rgb_out = (alpha1 * rgb1 + (1. - alpha1) * alpha2 * rgb2) / alpha_out\n",
    "    return np.dstack((rgb_out, alpha_out))"
   ]
  },
  {
   "cell_type": "code",
   "execution_count": 16,
   "metadata": {
    "collapsed": false
   },
   "outputs": [
    {
     "data": {
      "image/png": "[encoded data removed]",
      "text/plain": [
       "<PIL.Image.Image image mode=RGBA size=100x100 at 0x109B0AFD0>"
      ]
     },
     "execution_count": 16,
     "metadata": {},
     "output_type": "execute_result"
    }
   ],
   "source": [
    "b = alpha_composite(img1, img2)\n",
    "b"
   ]
  },
  {
   "cell_type": "code",
   "execution_count": 17,
   "metadata": {
    "collapsed": false
   },
   "outputs": [
    {
     "data": {
      "text/plain": [
       "True"
      ]
     },
     "execution_count": 17,
     "metadata": {},
     "output_type": "execute_result"
    }
   ],
   "source": [
    "np.all(np.asarray(a)==np.asarray(b))"
   ]
  }
 ],
 "metadata": {
  "kernelspec": {
   "display_name": "Python 3",
   "language": "python",
   "name": "python3"
  },
  "language_info": {
   "codemirror_mode": {
    "name": "ipython",
    "version": 3
   },
   "file_extension": ".py",
   "mimetype": "text/x-python",
   "name": "python",
   "nbconvert_exporter": "python",
   "pygments_lexer": "ipython3",
   "version": "3.5.2"
  }
 },
 "nbformat": 4,
 "nbformat_minor": 0
}
